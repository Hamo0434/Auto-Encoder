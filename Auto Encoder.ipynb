{
 "cells": [
  {
   "cell_type": "code",
   "execution_count": 1,
   "id": "b7024c8e",
   "metadata": {},
   "outputs": [],
   "source": [
    "import tensorflow as tf \n",
    "from keras.datasets import mnist\n",
    "from keras.models import Model\n",
    "from keras.layers import Dense , Input\n",
    "import matplotlib.pyplot as plt"
   ]
  },
  {
   "cell_type": "code",
   "execution_count": 2,
   "id": "3786c2e3",
   "metadata": {},
   "outputs": [],
   "source": [
    "(x_train , y_train ), (x_test , y_test) = mnist.load_data()\n"
   ]
  },
  {
   "cell_type": "code",
   "execution_count": 3,
   "id": "8a07a541",
   "metadata": {},
   "outputs": [
    {
     "data": {
      "text/plain": [
       "(60000, 28, 28)"
      ]
     },
     "execution_count": 3,
     "metadata": {},
     "output_type": "execute_result"
    }
   ],
   "source": [
    "x_train.shape"
   ]
  },
  {
   "cell_type": "code",
   "execution_count": 4,
   "id": "046c0bac",
   "metadata": {},
   "outputs": [
    {
     "data": {
      "text/plain": [
       "<matplotlib.image.AxesImage at 0x1a1ffa269a0>"
      ]
     },
     "execution_count": 4,
     "metadata": {},
     "output_type": "execute_result"
    },
    {
     "data": {
      "image/png": "[encoded data removed]",
      "text/plain": [
       "<Figure size 640x480 with 1 Axes>"
      ]
     },
     "metadata": {},
     "output_type": "display_data"
    }
   ],
   "source": [
    "plt.imshow(x_train[8])"
   ]
  },
  {
   "cell_type": "code",
   "execution_count": 5,
   "id": "617760b2",
   "metadata": {},
   "outputs": [
    {
     "data": {
      "text/plain": [
       "(60000, 784)"
      ]
     },
     "execution_count": 5,
     "metadata": {},
     "output_type": "execute_result"
    }
   ],
   "source": [
    "# converting into vector\n",
    "x_train = x_train.reshape(x_train.shape[0], 28*28)\n",
    "x_test= x_test.reshape(x_test.shape[0], 28*28)\n",
    "\n",
    "# rescale \n",
    "x_train.max()\n",
    "x_train = x_train/255\n",
    "x_tes  = x_test/255\n",
    "x_train.shape"
   ]
  },
  {
   "cell_type": "code",
   "execution_count": 6,
   "id": "d317e9a3",
   "metadata": {},
   "outputs": [
    {
     "name": "stdout",
     "output_type": "stream",
     "text": [
      "Model: \"model\"\n",
      "_________________________________________________________________\n",
      " Layer (type)                Output Shape              Param #   \n",
      "=================================================================\n",
      " input_1 (InputLayer)        [(None, 784)]             0         \n",
      "                                                                 \n",
      " dense (Dense)               (None, 32)                25120     \n",
      "                                                                 \n",
      " dense_1 (Dense)             (None, 784)               25872     \n",
      "                                                                 \n",
      "=================================================================\n",
      "Total params: 50992 (199.19 KB)\n",
      "Trainable params: 50992 (199.19 KB)\n",
      "Non-trainable params: 0 (0.00 Byte)\n",
      "_________________________________________________________________\n"
     ]
    }
   ],
   "source": [
    "input_layer = Input(shape=(x_train.shape[1]))\n",
    "bottleneck = Dense(32 , activation = 'relu')(input_layer)\n",
    "output_layer = Dense(x_train.shape[1] , activation = 'sigmoid')(bottleneck)\n",
    "\n",
    "auto_encoder = Model(input_layer , output_layer)\n",
    "\n",
    "auto_encoder.summary()"
   ]
  },
  {
   "cell_type": "code",
   "execution_count": 7,
   "id": "fa465446",
   "metadata": {},
   "outputs": [
    {
     "name": "stdout",
     "output_type": "stream",
     "text": [
      "Model: \"model_1\"\n",
      "_________________________________________________________________\n",
      " Layer (type)                Output Shape              Param #   \n",
      "=================================================================\n",
      " input_1 (InputLayer)        [(None, 784)]             0         \n",
      "                                                                 \n",
      " dense (Dense)               (None, 32)                25120     \n",
      "                                                                 \n",
      "=================================================================\n",
      "Total params: 25120 (98.12 KB)\n",
      "Trainable params: 25120 (98.12 KB)\n",
      "Non-trainable params: 0 (0.00 Byte)\n",
      "_________________________________________________________________\n"
     ]
    }
   ],
   "source": [
    "#separate the encoder from the model\n",
    "encoder = Model(input_layer , bottleneck)\n",
    "encoder.summary()"
   ]
  },
  {
   "cell_type": "code",
   "execution_count": 8,
   "id": "4ed8c020",
   "metadata": {},
   "outputs": [
    {
     "name": "stdout",
     "output_type": "stream",
     "text": [
      "Model: \"model_2\"\n",
      "_________________________________________________________________\n",
      " Layer (type)                Output Shape              Param #   \n",
      "=================================================================\n",
      " input_2 (InputLayer)        [(None, 32)]              0         \n",
      "                                                                 \n",
      " dense_1 (Dense)             (None, 784)               25872     \n",
      "                                                                 \n",
      "=================================================================\n",
      "Total params: 25872 (101.06 KB)\n",
      "Trainable params: 25872 (101.06 KB)\n",
      "Non-trainable params: 0 (0.00 Byte)\n",
      "_________________________________________________________________\n"
     ]
    }
   ],
   "source": [
    "#separate the decoder from the model\n",
    "decoder = Model(bottleneck, output_layer)\n",
    "decoder.summary()"
   ]
  },
  {
   "cell_type": "code",
   "execution_count": 9,
   "id": "b9260bd1",
   "metadata": {},
   "outputs": [
    {
     "name": "stdout",
     "output_type": "stream",
     "text": [
      "Epoch 1/100\n",
      "938/938 [==============================] - 3s 3ms/step - loss: 0.0416\n",
      "Epoch 2/100\n",
      "938/938 [==============================] - 2s 2ms/step - loss: 0.0181\n",
      "Epoch 3/100\n",
      "938/938 [==============================] - 2s 2ms/step - loss: 0.0131\n",
      "Epoch 4/100\n",
      "938/938 [==============================] - 2s 2ms/step - loss: 0.0114\n",
      "Epoch 5/100\n",
      "938/938 [==============================] - 3s 3ms/step - loss: 0.0109\n",
      "Epoch 6/100\n",
      "938/938 [==============================] - 3s 3ms/step - loss: 0.0106\n",
      "Epoch 7/100\n",
      "938/938 [==============================] - 2s 3ms/step - loss: 0.0105\n",
      "Epoch 8/100\n",
      "938/938 [==============================] - 2s 2ms/step - loss: 0.0104\n",
      "Epoch 9/100\n",
      "938/938 [==============================] - 2s 2ms/step - loss: 0.0104\n",
      "Epoch 10/100\n",
      "938/938 [==============================] - 2s 2ms/step - loss: 0.0103\n",
      "Epoch 11/100\n",
      "938/938 [==============================] - 2s 3ms/step - loss: 0.0103\n",
      "Epoch 12/100\n",
      "938/938 [==============================] - 3s 3ms/step - loss: 0.0102\n",
      "Epoch 13/100\n",
      "938/938 [==============================] - 2s 2ms/step - loss: 0.0102\n",
      "Epoch 14/100\n",
      "938/938 [==============================] - 2s 2ms/step - loss: 0.0102\n",
      "Epoch 15/100\n",
      "938/938 [==============================] - 2s 2ms/step - loss: 0.0102\n",
      "Epoch 16/100\n",
      "938/938 [==============================] - 2s 2ms/step - loss: 0.0101\n",
      "Epoch 17/100\n",
      "938/938 [==============================] - 2s 2ms/step - loss: 0.0101\n",
      "Epoch 18/100\n",
      "938/938 [==============================] - 2s 3ms/step - loss: 0.0101\n",
      "Epoch 19/100\n",
      "938/938 [==============================] - 2s 2ms/step - loss: 0.0101\n",
      "Epoch 20/100\n",
      "938/938 [==============================] - 2s 2ms/step - loss: 0.0101\n",
      "Epoch 21/100\n",
      "938/938 [==============================] - 2s 2ms/step - loss: 0.0101\n",
      "Epoch 22/100\n",
      "938/938 [==============================] - 2s 2ms/step - loss: 0.0101\n",
      "Epoch 23/100\n",
      "938/938 [==============================] - 2s 2ms/step - loss: 0.0101\n",
      "Epoch 24/100\n",
      "938/938 [==============================] - 2s 2ms/step - loss: 0.0100\n",
      "Epoch 25/100\n",
      "938/938 [==============================] - 2s 2ms/step - loss: 0.0100\n",
      "Epoch 26/100\n",
      "938/938 [==============================] - 2s 2ms/step - loss: 0.0100\n",
      "Epoch 27/100\n",
      "938/938 [==============================] - 2s 2ms/step - loss: 0.0100\n",
      "Epoch 28/100\n",
      "938/938 [==============================] - 2s 2ms/step - loss: 0.0100\n",
      "Epoch 29/100\n",
      "938/938 [==============================] - 2s 2ms/step - loss: 0.0100\n",
      "Epoch 30/100\n",
      "938/938 [==============================] - 2s 2ms/step - loss: 0.0100\n",
      "Epoch 31/100\n",
      "938/938 [==============================] - 2s 2ms/step - loss: 0.0100\n",
      "Epoch 32/100\n",
      "938/938 [==============================] - 2s 2ms/step - loss: 0.0100\n",
      "Epoch 33/100\n",
      "938/938 [==============================] - 2s 2ms/step - loss: 0.0100\n",
      "Epoch 34/100\n",
      "938/938 [==============================] - 2s 2ms/step - loss: 0.0100\n",
      "Epoch 35/100\n",
      "938/938 [==============================] - 3s 3ms/step - loss: 0.0100\n",
      "Epoch 36/100\n",
      "938/938 [==============================] - 3s 3ms/step - loss: 0.0100\n",
      "Epoch 37/100\n",
      "938/938 [==============================] - 2s 2ms/step - loss: 0.0100\n",
      "Epoch 38/100\n",
      "938/938 [==============================] - 2s 2ms/step - loss: 0.0100\n",
      "Epoch 39/100\n",
      "938/938 [==============================] - 2s 2ms/step - loss: 0.0099\n",
      "Epoch 40/100\n",
      "938/938 [==============================] - 2s 2ms/step - loss: 0.0099\n",
      "Epoch 41/100\n",
      "938/938 [==============================] - 2s 2ms/step - loss: 0.0099\n",
      "Epoch 42/100\n",
      "938/938 [==============================] - 2s 2ms/step - loss: 0.0099\n",
      "Epoch 43/100\n",
      "938/938 [==============================] - 2s 2ms/step - loss: 0.0099\n",
      "Epoch 44/100\n",
      "938/938 [==============================] - 2s 3ms/step - loss: 0.0099\n",
      "Epoch 45/100\n",
      "938/938 [==============================] - 4s 4ms/step - loss: 0.0099\n",
      "Epoch 46/100\n",
      "938/938 [==============================] - 3s 3ms/step - loss: 0.0099\n",
      "Epoch 47/100\n",
      "938/938 [==============================] - 3s 3ms/step - loss: 0.0099\n",
      "Epoch 48/100\n",
      "938/938 [==============================] - 3s 3ms/step - loss: 0.0099\n",
      "Epoch 49/100\n",
      "938/938 [==============================] - 3s 3ms/step - loss: 0.0099\n",
      "Epoch 50/100\n",
      "938/938 [==============================] - 3s 3ms/step - loss: 0.0099\n",
      "Epoch 51/100\n",
      "938/938 [==============================] - 3s 3ms/step - loss: 0.0099\n",
      "Epoch 52/100\n",
      "938/938 [==============================] - 2s 3ms/step - loss: 0.0099\n",
      "Epoch 53/100\n",
      "938/938 [==============================] - 3s 3ms/step - loss: 0.0099\n",
      "Epoch 54/100\n",
      "938/938 [==============================] - 3s 3ms/step - loss: 0.0099\n",
      "Epoch 55/100\n",
      "938/938 [==============================] - 3s 3ms/step - loss: 0.0099\n",
      "Epoch 56/100\n",
      "938/938 [==============================] - 3s 3ms/step - loss: 0.0099\n",
      "Epoch 57/100\n",
      "938/938 [==============================] - 2s 2ms/step - loss: 0.0099\n",
      "Epoch 58/100\n",
      "938/938 [==============================] - 2s 2ms/step - loss: 0.0099\n",
      "Epoch 59/100\n",
      "938/938 [==============================] - 2s 2ms/step - loss: 0.0098\n",
      "Epoch 60/100\n",
      "938/938 [==============================] - 2s 2ms/step - loss: 0.0098\n",
      "Epoch 61/100\n",
      "938/938 [==============================] - 2s 2ms/step - loss: 0.0098\n",
      "Epoch 62/100\n",
      "938/938 [==============================] - 2s 2ms/step - loss: 0.0098\n",
      "Epoch 63/100\n",
      "938/938 [==============================] - 2s 2ms/step - loss: 0.0098\n",
      "Epoch 64/100\n",
      "938/938 [==============================] - 2s 2ms/step - loss: 0.0098\n",
      "Epoch 65/100\n",
      "938/938 [==============================] - 2s 2ms/step - loss: 0.0098\n",
      "Epoch 66/100\n",
      "938/938 [==============================] - 2s 2ms/step - loss: 0.0098\n",
      "Epoch 67/100\n",
      "938/938 [==============================] - 2s 2ms/step - loss: 0.0098\n",
      "Epoch 68/100\n",
      "938/938 [==============================] - 2s 2ms/step - loss: 0.0098\n",
      "Epoch 69/100\n",
      "938/938 [==============================] - 2s 2ms/step - loss: 0.0098\n",
      "Epoch 70/100\n",
      "938/938 [==============================] - 2s 2ms/step - loss: 0.0098\n",
      "Epoch 71/100\n",
      "938/938 [==============================] - 2s 2ms/step - loss: 0.0098\n",
      "Epoch 72/100\n",
      "938/938 [==============================] - 2s 2ms/step - loss: 0.0098\n",
      "Epoch 73/100\n",
      "938/938 [==============================] - 2s 2ms/step - loss: 0.0098\n",
      "Epoch 74/100\n",
      "938/938 [==============================] - 2s 2ms/step - loss: 0.0098\n",
      "Epoch 75/100\n",
      "938/938 [==============================] - 2s 2ms/step - loss: 0.0098\n",
      "Epoch 76/100\n",
      "938/938 [==============================] - 2s 2ms/step - loss: 0.0098\n",
      "Epoch 77/100\n",
      "938/938 [==============================] - 2s 2ms/step - loss: 0.0098\n",
      "Epoch 78/100\n",
      "938/938 [==============================] - 2s 2ms/step - loss: 0.0098\n",
      "Epoch 79/100\n",
      "938/938 [==============================] - 2s 2ms/step - loss: 0.0098\n",
      "Epoch 80/100\n",
      "938/938 [==============================] - 2s 2ms/step - loss: 0.0098\n",
      "Epoch 81/100\n",
      "938/938 [==============================] - 2s 2ms/step - loss: 0.0098\n",
      "Epoch 82/100\n",
      "938/938 [==============================] - 2s 2ms/step - loss: 0.0098\n",
      "Epoch 83/100\n",
      "938/938 [==============================] - 2s 2ms/step - loss: 0.0098\n",
      "Epoch 84/100\n",
      "938/938 [==============================] - 2s 2ms/step - loss: 0.0098\n",
      "Epoch 85/100\n",
      "938/938 [==============================] - 2s 2ms/step - loss: 0.0098\n",
      "Epoch 86/100\n",
      "938/938 [==============================] - 2s 2ms/step - loss: 0.0098\n",
      "Epoch 87/100\n",
      "938/938 [==============================] - 2s 2ms/step - loss: 0.0098\n",
      "Epoch 88/100\n",
      "938/938 [==============================] - 3s 3ms/step - loss: 0.0097\n",
      "Epoch 89/100\n",
      "938/938 [==============================] - 2s 3ms/step - loss: 0.0097\n",
      "Epoch 90/100\n",
      "938/938 [==============================] - 2s 2ms/step - loss: 0.0097\n",
      "Epoch 91/100\n",
      "938/938 [==============================] - 2s 2ms/step - loss: 0.0097\n",
      "Epoch 92/100\n",
      "938/938 [==============================] - 2s 2ms/step - loss: 0.0097\n",
      "Epoch 93/100\n",
      "938/938 [==============================] - 2s 2ms/step - loss: 0.0097\n",
      "Epoch 94/100\n",
      "938/938 [==============================] - 2s 2ms/step - loss: 0.0097\n",
      "Epoch 95/100\n",
      "938/938 [==============================] - 2s 2ms/step - loss: 0.0097\n",
      "Epoch 96/100\n",
      "938/938 [==============================] - 2s 2ms/step - loss: 0.0097\n",
      "Epoch 97/100\n",
      "938/938 [==============================] - 2s 2ms/step - loss: 0.0097\n",
      "Epoch 98/100\n",
      "938/938 [==============================] - 2s 2ms/step - loss: 0.0097\n",
      "Epoch 99/100\n"
     ]
    },
    {
     "name": "stdout",
     "output_type": "stream",
     "text": [
      "938/938 [==============================] - 2s 2ms/step - loss: 0.0097\n",
      "Epoch 100/100\n",
      "938/938 [==============================] - 2s 2ms/step - loss: 0.0097\n"
     ]
    }
   ],
   "source": [
    "auto_encoder.compile(loss = 'mse' , optimizer = 'adam')\n",
    "history = auto_encoder.fit(x_train , x_train , epochs = 100,batch_size = 64)"
   ]
  },
  {
   "cell_type": "code",
   "execution_count": 10,
   "id": "2d2e1c14",
   "metadata": {},
   "outputs": [
    {
     "data": {
      "text/plain": [
       "[<matplotlib.lines.Line2D at 0x1a19f9124c0>]"
      ]
     },
     "execution_count": 10,
     "metadata": {},
     "output_type": "execute_result"
    },
    {
     "data": {
      "image/png": "[encoded data removed]",
      "text/plain": [
       "<Figure size 640x480 with 1 Axes>"
      ]
     },
     "metadata": {},
     "output_type": "display_data"
    }
   ],
   "source": [
    "plt.plot(history.history['loss'])"
   ]
  },
  {
   "cell_type": "code",
   "execution_count": 11,
   "id": "8d41b439",
   "metadata": {},
   "outputs": [
    {
     "name": "stdout",
     "output_type": "stream",
     "text": [
      "20/20 [==============================] - 0s 2ms/step\n",
      "(10000, 32)\n",
      "20/20 [==============================] - 0s 2ms/step\n"
     ]
    },
    {
     "data": {
      "text/plain": [
       "(10000, 784)"
      ]
     },
     "execution_count": 11,
     "metadata": {},
     "output_type": "execute_result"
    }
   ],
   "source": [
    "# now we should applying encoder on testing data then passing it to the decoder\n",
    "new_data = encoder.predict(x_test , batch_size = 512)\n",
    "print(new_data.shape)\n",
    "\n",
    "output_data = decoder.predict(new_data, batch_size = 512)\n",
    "output_data.shape"
   ]
  },
  {
   "cell_type": "code",
   "execution_count": 12,
   "id": "fa58456c",
   "metadata": {},
   "outputs": [
    {
     "name": "stdout",
     "output_type": "stream",
     "text": [
      "(10000, 28, 28)\n"
     ]
    },
    {
     "data": {
      "text/plain": [
       "<matplotlib.image.AxesImage at 0x1a19f9b3a90>"
      ]
     },
     "execution_count": 12,
     "metadata": {},
     "output_type": "execute_result"
    },
    {
     "data": {
      "image/png": "[encoded data removed]",
      "text/plain": [
       "<Figure size 640x480 with 1 Axes>"
      ]
     },
     "metadata": {},
     "output_type": "display_data"
    }
   ],
   "source": [
    "# reshaping the data to visualize it \n",
    "output_data = output_data.reshape(output_data.shape[0] , 28, 28)\n",
    "print(output_data.shape)\n",
    "# showing the image\n",
    "plt.imshow(output_data[5] )"
   ]
  },
  {
   "cell_type": "code",
   "execution_count": 13,
   "id": "18c6d3f8",
   "metadata": {},
   "outputs": [
    {
     "data": {
      "text/plain": [
       "<matplotlib.image.AxesImage at 0x1a19f9d9d00>"
      ]
     },
     "execution_count": 13,
     "metadata": {},
     "output_type": "execute_result"
    },
    {
     "data": {
      "image/png": "[encoded data removed]",
      "text/plain": [
       "<Figure size 640x480 with 1 Axes>"
      ]
     },
     "metadata": {},
     "output_type": "display_data"
    }
   ],
   "source": [
    "x_test = x_test.reshape(10000,28,28)\n",
    "plt.imshow(x_test[5])"
   ]
  },
  {
   "cell_type": "code",
   "execution_count": null,
   "id": "d95a6b91",
   "metadata": {},
   "outputs": [],
   "source": []
  },
  {
   "cell_type": "code",
   "execution_count": null,
   "id": "48b9c0fc",
   "metadata": {},
   "outputs": [],
   "source": []
  },
  {
   "cell_type": "code",
   "execution_count": null,
   "id": "dea326d5",
   "metadata": {},
   "outputs": [],
   "source": []
  },
  {
   "cell_type": "code",
   "execution_count": null,
   "id": "808f6e02",
   "metadata": {},
   "outputs": [],
   "source": []
  }
 ],
 "metadata": {
  "kernelspec": {
   "display_name": "Python 3 (ipykernel)",
   "language": "python",
   "name": "python3"
  },
  "language_info": {
   "codemirror_mode": {
    "name": "ipython",
    "version": 3
   },
   "file_extension": ".py",
   "mimetype": "text/x-python",
   "name": "python",
   "nbconvert_exporter": "python",
   "pygments_lexer": "ipython3",
   "version": "3.9.13"
  }
 },
 "nbformat": 4,
 "nbformat_minor": 5
}
